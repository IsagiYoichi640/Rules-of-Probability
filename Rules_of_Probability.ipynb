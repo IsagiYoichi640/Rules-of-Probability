{
  "nbformat": 4,
  "nbformat_minor": 0,
  "metadata": {
    "colab": {
      "provenance": [],
      "authorship_tag": "ABX9TyOEHJ865LnsNytuVBfFh5JU",
      "include_colab_link": true
    },
    "kernelspec": {
      "name": "python3",
      "display_name": "Python 3"
    },
    "language_info": {
      "name": "python"
    }
  },
  "cells": [
    {
      "cell_type": "markdown",
      "metadata": {
        "id": "view-in-github",
        "colab_type": "text"
      },
      "source": [
        "<a href=\"https://colab.research.google.com/github/IsagiYoichi640/Rules-of-Probability/blob/main/Rules_of_Probability.ipynb\" target=\"_parent\"><img src=\"https://colab.research.google.com/assets/colab-badge.svg\" alt=\"Open In Colab\"/></a>"
      ]
    },
    {
      "cell_type": "code",
      "execution_count": 2,
      "metadata": {
        "colab": {
          "base_uri": "https://localhost:8080/"
        },
        "id": "5VQcidsBRK6-",
        "outputId": "d267940c-dee3-4db3-c375-fc145a4c78de"
      },
      "outputs": [
        {
          "output_type": "stream",
          "name": "stdout",
          "text": [
            "{'A', 'B', 'D', 'V', 'X', 'E', 'Y', 'C', 'Z'}\n"
          ]
        }
      ],
      "source": [
        "S1 = {\"A\", \"B\", \"C\", \"D\", \"E\"}\n",
        "S2 ={'B','D','V','X','Y','Z'}\n",
        "Final_list=S1.union(S2)\n",
        "print(Final_list)"
      ]
    },
    {
      "cell_type": "code",
      "source": [
        "def get_friend_list(person):\n",
        "  print(\"Enter the list of First Letter os each names of people you will invite seperated by a comma\")\n",
        "  S1=input(f\"{person}'s friends:\")\n",
        "  return set(friend.strip().upper() for friend in S1.split(','))\n",
        "def main():\n",
        "  print(\"Welcom to my program, Please enter your friend list.\")\n",
        "  person1=get_friend_list(\"Person1\")\n",
        "  person2=get_friend_list(\"Person2\")\n",
        "  common_friends=person1.intersection(person2)\n",
        "  print('Common friends:',common_friends)\n",
        "if __name__==\"__main__\":\n",
        "  main()"
      ],
      "metadata": {
        "colab": {
          "base_uri": "https://localhost:8080/"
        },
        "id": "QkikDodUSVU0",
        "outputId": "a4168080-f23a-4613-9323-d5276b97fbfb"
      },
      "execution_count": 6,
      "outputs": [
        {
          "output_type": "stream",
          "name": "stdout",
          "text": [
            "Welcom to my program, Please enter your friend list.\n",
            "Enter the list of First Letter os each names of people you will invite seperated by a comma\n",
            "Person1's friends:J,R,H,G\n",
            "Enter the list of First Letter os each names of people you will invite seperated by a comma\n",
            "Person2's friends:R,A,S\n",
            "Common friends: {'R'}\n"
          ]
        }
      ]
    },
    {
      "cell_type": "code",
      "source": [
        "dice={1,2,3,4,5,6}\n",
        "event_A={2,4,6}\n",
        "event_B={3,4,5,6}\n",
        "#claculating probability\n",
        "P_A=len(event_A)/len(dice)\n",
        "P_B=len(event_B)/len(dice)\n",
        "#Addition rule to show where one or both events will occur\n",
        "P_A_orB=P_A+P_B-(len(event_A.intersection(event_B))/len(dice))\n",
        "print(P_A_orB)"
      ],
      "metadata": {
        "colab": {
          "base_uri": "https://localhost:8080/"
        },
        "id": "yGg2IolhVonZ",
        "outputId": "cdf0b3e1-7e99-496c-dd40-7ff2b8f0b24c"
      },
      "execution_count": 8,
      "outputs": [
        {
          "output_type": "stream",
          "name": "stdout",
          "text": [
            "0.8333333333333333\n"
          ]
        }
      ]
    }
  ]
}